{
 "cells": [
  {
   "cell_type": "code",
   "execution_count": 125,
   "metadata": {},
   "outputs": [],
   "source": [
    "from bs4 import BeautifulSoup\n",
    "import requests\n",
    "import re\n",
    "import pandas as pd"
   ]
  },
  {
   "cell_type": "code",
   "execution_count": 126,
   "metadata": {},
   "outputs": [
    {
     "name": "stdout",
     "output_type": "stream",
     "text": [
      "50\n"
     ]
    }
   ],
   "source": [
    "#Website 1 - MyAnimeList\n",
    "html_text=requests.get('https://myanimelist.net/topmanga.php')\n",
    "soup = BeautifulSoup(html_text.text, 'html.parser')\n",
    "mango = soup.find_all('tr', attrs= {'class': 'ranking-list'})\n",
    "print(len(mango))"
   ]
  },
  {
   "cell_type": "code",
   "execution_count": 127,
   "metadata": {},
   "outputs": [
    {
     "name": "stdout",
     "output_type": "stream",
     "text": [
      "['Berserk', 'JoJo no Kimyou na Bouken Part 7: Steel Ball Run', 'Vagabond', 'One Piece', 'Monster', 'Slam Dunk', 'Vinland Saga', 'Fullmetal Alchemist', 'Grand Blue', 'Oyasumi Punpun', 'Kingdom', 'Houseki no Kuni', '20th Century Boys', 'Ashita no Joe', 'Real', 'Monogatari Series: First Season', 'Mikkakan no Koufuku', 'Kaguya-sama wa Kokurasetai: Tensai-tachi no Renai Zunousen', 'Monogatari Series: Second Season', 'Yotsuba to!', 'GTO', '3-gatsu no Lion', 'Youkoso Jitsuryoku Shijou Shugi no Kyoushitsu e', 'Monogatari Series: Final Season', 'Youkoso Jitsuryoku Shijou Shugi no Kyoushitsu e: 2-nensei-hen', 'Koe no Katachi', 'Haikyuu!!', 'Umineko no Naku Koro ni Chiru - Episode 8: Twilight of the Golden Witch', 'Ookami to Koushinryou', 'Kaze no Tani no Nausicaä', 'Akatsuki no Yona', '86', 'Mushoku Tensei: Isekai Ittara Honki Dasu', 'Re:Zero kara Hajimeru Isekai Seikatsu', 'Jumyou wo Kaitotte Moratta. Ichinen ni Tsuki, Ichimanen de.', 'Nana', 'Uchuu Kyoudai', 'Made in Abyss', 'Yahari Ore no Seishun Love Comedy wa Machigatteiru.', 'One Punch-Man', 'Chainsaw Man', 'Hunter x Hunter', 'Kokou no Hito', 'Honzuki no Gekokujou: Shisho ni Naru Tame ni wa Shudan wo Erandeiraremasen', 'Hajime no Ippo', 'Mushishi', 'Utsuro no Hako to Zero no Maria', 'Shoujo Shuumatsu Ryokou', 'Death Note', 'Sayonara Eri']\n"
     ]
    }
   ],
   "source": [
    "mangaTitles = []\n",
    "for manga in mango:\n",
    "    mangaTitle = manga.h3.a.text\n",
    "    mangaTitles.append(mangaTitle)    \n",
    "print(mangaTitles)"
   ]
  },
  {
   "cell_type": "code",
   "execution_count": 128,
   "metadata": {},
   "outputs": [
    {
     "name": "stdout",
     "output_type": "stream",
     "text": [
      "['9.47', '9.30', '9.24', '9.22', '9.15', '9.08', '9.05', '9.03', '9.03', '9.02', '9.00', '8.96', '8.95', '8.94', '8.93', '8.93', '8.93', '8.92', '8.92', '8.88', '8.88', '8.88', '8.87', '8.86', '8.86', '8.86', '8.85', '8.84', '8.83', '8.82', '8.82', '8.81', '8.80', '8.79', '8.79', '8.79', '8.78', '8.77', '8.77', '8.75', '8.74', '8.73', '8.73', '8.73', '8.72', '8.72', '8.71', '8.70', '8.70', '8.70']\n"
     ]
    }
   ],
   "source": [
    "mangaScore = []\n",
    "mangoScore = soup.find_all('td', attrs= {'class': 'score ac fs14'})\n",
    "for manga in mangoScore:\n",
    "    mangaScore.append(manga.div.text)\n",
    "print(mangaScore)\n"
   ]
  },
  {
   "cell_type": "code",
   "execution_count": 129,
   "metadata": {},
   "outputs": [
    {
     "name": "stdout",
     "output_type": "stream",
     "text": [
      "[['1'], ['2'], ['3'], ['4'], ['5'], ['6'], ['7'], ['8'], ['9'], ['10'], ['11'], ['12'], ['13'], ['14'], ['15'], ['16'], ['17'], ['18'], ['19'], ['20'], ['21'], ['22'], ['23'], ['24'], ['25'], ['26'], ['27'], ['28'], ['29'], ['30'], ['31'], ['32'], ['33'], ['34'], ['35'], ['36'], ['37'], ['38'], ['39'], ['40'], ['41'], ['42'], ['43'], ['44'], ['45'], ['46'], ['47'], ['48'], ['49'], ['50']]\n"
     ]
    }
   ],
   "source": [
    "mangaRank = []\n",
    "mangoRank = soup.find_all('td', attrs= {'class': 'rank ac'})\n",
    "for manga in mangoRank:\n",
    "    mangaRank.append(manga.text.strip().split('\\n'))\n",
    "print(mangaRank)\n"
   ]
  },
  {
   "cell_type": "code",
   "execution_count": 130,
   "metadata": {},
   "outputs": [
    {
     "name": "stdout",
     "output_type": "stream",
     "text": [
      "['https://myanimelist.net/manga/2/Berserk', 'https://myanimelist.net/manga/1706/JoJo_no_Kimyou_na_Bouken_Part_7__Steel_Ball_Run', 'https://myanimelist.net/manga/656/Vagabond', 'https://myanimelist.net/manga/13/One_Piece', 'https://myanimelist.net/manga/1/Monster', 'https://myanimelist.net/manga/51/Slam_Dunk', 'https://myanimelist.net/manga/642/Vinland_Saga', 'https://myanimelist.net/manga/25/Fullmetal_Alchemist', 'https://myanimelist.net/manga/70345/Grand_Blue', 'https://myanimelist.net/manga/4632/Oyasumi_Punpun', 'https://myanimelist.net/manga/16765/Kingdom', 'https://myanimelist.net/manga/44489/Houseki_no_Kuni', 'https://myanimelist.net/manga/3/20th_Century_Boys', 'https://myanimelist.net/manga/1303/Ashita_no_Joe', 'https://myanimelist.net/manga/657/Real', 'https://myanimelist.net/manga/14893/Monogatari_Series__First_Season', 'https://myanimelist.net/manga/126479/Mikkakan_no_Koufuku', 'https://myanimelist.net/manga/90125/Kaguya-sama_wa_Kokurasetai__Tensai-tachi_no_Renai_Zunousen', 'https://myanimelist.net/manga/23751/Monogatari_Series__Second_Season', 'https://myanimelist.net/manga/104/Yotsuba_to', 'https://myanimelist.net/manga/336/GTO', 'https://myanimelist.net/manga/1224/3-gatsu_no_Lion', 'https://myanimelist.net/manga/89357/Youkoso_Jitsuryoku_Shijou_Shugi_no_Kyoushitsu_e', 'https://myanimelist.net/manga/44227/Monogatari_Series__Final_Season', 'https://myanimelist.net/manga/123992/Youkoso_Jitsuryoku_Shijou_Shugi_no_Kyoushitsu_e__2-nensei-hen', 'https://myanimelist.net/manga/56805/Koe_no_Katachi', 'https://myanimelist.net/manga/35243/Haikyuu', 'https://myanimelist.net/manga/34053/Umineko_no_Naku_Koro_ni_Chiru_-_Episode_8__Twilight_of_the_Golden_Witch', 'https://myanimelist.net/manga/9115/Ookami_to_Koushinryou', 'https://myanimelist.net/manga/651/Kaze_no_Tani_no_Nausicaä', 'https://myanimelist.net/manga/21525/Akatsuki_no_Yona', 'https://myanimelist.net/manga/104039/86', 'https://myanimelist.net/manga/70261/Mushoku_Tensei__Isekai_Ittara_Honki_Dasu', 'https://myanimelist.net/manga/74697/Re_Zero_kara_Hajimeru_Isekai_Seikatsu', 'https://myanimelist.net/manga/100448/Jumyou_wo_Kaitotte_Moratta_Ichinen_ni_Tsuki_Ichimanen_de', 'https://myanimelist.net/manga/28/Nana', 'https://myanimelist.net/manga/14483/Uchuu_Kyoudai', 'https://myanimelist.net/manga/91941/Made_in_Abyss', 'https://myanimelist.net/manga/40171/Yahari_Ore_no_Seishun_Love_Comedy_wa_Machigatteiru', 'https://myanimelist.net/manga/44347/One_Punch-Man', 'https://myanimelist.net/manga/116778/Chainsaw_Man', 'https://myanimelist.net/manga/26/Hunter_x_Hunter', 'https://myanimelist.net/manga/7375/Kokou_no_Hito', 'https://myanimelist.net/manga/86119/Honzuki_no_Gekokujou__Shisho_ni_Naru_Tame_ni_wa_Shudan_wo_Erandeiraremasen', 'https://myanimelist.net/manga/7/Hajime_no_Ippo', 'https://myanimelist.net/manga/418/Mushishi', 'https://myanimelist.net/manga/55215/Utsuro_no_Hako_to_Zero_no_Maria', 'https://myanimelist.net/manga/72467/Shoujo_Shuumatsu_Ryokou', 'https://myanimelist.net/manga/21/Death_Note', 'https://myanimelist.net/manga/145863/Sayonara_Eri']\n"
     ]
    }
   ],
   "source": [
    "mangaLink = []\n",
    "for manga in mango:\n",
    "    mangaLink.append(manga.h3.a['href'])\n",
    "print(mangaLink)\n"
   ]
  },
  {
   "cell_type": "code",
   "execution_count": 131,
   "metadata": {},
   "outputs": [
    {
     "name": "stdout",
     "output_type": "stream",
     "text": [
      "['Manga (? vols)', 'Manga (24 vols)', 'Manga (37 vols)', 'Manga (? vols)', 'Manga (18 vols)', 'Manga (31 vols)', 'Manga (? vols)', 'Manga (27 vols)', 'Manga (? vols)', 'Manga (13 vols)', 'Manga (? vols)', 'Manga (? vols)', 'Manga (22 vols)', 'Manga (20 vols)', 'Manga (? vols)', 'Light Novel (6 vols)', 'Novel (1 vols)', 'Manga (28 vols)', 'Light Novel (6 vols)', 'Manga (? vols)', 'Manga (25 vols)', 'Manga (? vols)', 'Light Novel (14 vols)', 'Light Novel (6 vols)', 'Light Novel (? vols)', 'Manga (7 vols)', 'Manga (45 vols)', 'Manga (9 vols)', 'Light Novel (? vols)', 'Manga (7 vols)', 'Manga (? vols)', 'Light Novel (? vols)', 'Light Novel (26 vols)', 'Light Novel (? vols)', 'Manga (3 vols)', 'Manga (21 vols)', 'Manga (? vols)', 'Manga (? vols)', 'Light Novel (18 vols)', 'Manga (? vols)', 'Manga (? vols)', 'Manga (? vols)', 'Manga (17 vols)', 'Light Novel (? vols)', 'Manga (? vols)', 'Manga (10 vols)', 'Light Novel (7 vols)', 'Manga (6 vols)', 'Manga (12 vols)', 'Manga (1 vols)']\n",
      "['Aug 1989 -', 'Jan 2004 - Apr 2011', 'Sep 1998 - May 2015', 'Jul 1997 -', 'Dec 1994 - Dec 2001', 'Sep 1990 - Jun 1996', 'Apr 2005 -', 'Jul 2001 - Sep 2010', 'Apr 2014 -', 'Mar 2007 - Nov 2013', 'Jan 2006 -', 'Oct 2012 -', 'Sep 1999 - Apr 2006', 'Jan 1968 - May 1973', 'Oct 1999 -', 'Nov 2006 - Jul 2010', 'Dec 2013 - Dec 2013', 'May 2015 - Nov 2022', 'Oct 2010 - Dec 2011', 'Mar 2003 -', 'Dec 1996 - Jan 2002', 'Jul 2007 -', 'May 2015 - Sep 2019', 'Sep 2012 - Sep 2014', 'Jan 2020 -', 'Aug 2013 - Nov 2014', 'Feb 2012 - Jul 2020', 'Jan 2012 - Jun 2015', 'Feb 2006 -', 'Oct 1982 - Feb 1994', 'Aug 2009 -', 'Feb 2017 -', 'Jan 2014 - Nov 2022', 'Jan 2014 -', 'Aug 2016 - Oct 2017', 'May 2000 - May 2009', 'Dec 2007 -', 'Oct 2012 -', 'Mar 2011 - Apr 2021', 'Jun 2012 -', 'Dec 2018 -', 'Mar 1998 -', 'Nov 2007 - Oct 2011', 'Jan 2015 -', 'Sep 1989 -', 'Nov 1999 - Aug 2008', 'Jan 2009 - Jun 2015', 'Feb 2014 - Jan 2018', 'Dec 2003 - May 2006', 'Apr 2022 - Apr 2022']\n",
      "['652,648 members', '251,802 members', '356,324 members', '588,427 members', '231,526 members', '160,572 members', '286,879 members', '285,811 members', '169,316 members', '419,203 members', '162,992 members', '120,535 members', '240,567 members', '49,358 members', '81,710 members', '57,007 members', '25,800 members', '259,133 members', '22,040 members', '148,259 members', '162,140 members', '64,446 members', '80,682 members', '17,853 members', '33,090 members', '262,353 members', '209,068 members', '15,563 members', '62,054 members', '55,793 members', '129,829 members', '37,183 members', '77,683 members', '66,212 members', '155,811 members', '131,713 members', '33,570 members', '153,323 members', '69,026 members', '461,749 members', '577,607 members', '260,152 members', '93,261 members', '13,203 members', '81,698 members', '79,864 members', '100,997 members', '62,805 members', '383,972 members', '97,625 members']\n"
     ]
    }
   ],
   "source": [
    "mangaVolumes = []\n",
    "mangaPublication = []\n",
    "mangaMembers = []\n",
    "\n",
    "mangoInfo = soup.select('div.information')\n",
    "mangoText = (i.get_text() for i in mangoInfo)\n",
    "\n",
    "for text in mangoText:\n",
    "    elements = text.strip().split('\\n')\n",
    "    if len(elements)>=3:\n",
    "        mangaVolume = elements[0].strip()\n",
    "        mangaPublicationDate = elements[1].strip()\n",
    "        mangaMemberCount = elements[2].strip()\n",
    "        \n",
    "        mangaVolumes.append(mangaVolume)\n",
    "        mangaPublication.append(mangaPublicationDate)\n",
    "        mangaMembers.append(mangaMemberCount)\n",
    "        \n",
    "        \n",
    "        \n",
    "        \n",
    "        \n",
    "print(mangaVolumes)\n",
    "print(mangaPublication)\n",
    "print(mangaMembers)"
   ]
  },
  {
   "cell_type": "code",
   "execution_count": 132,
   "metadata": {},
   "outputs": [
    {
     "name": "stdout",
     "output_type": "stream",
     "text": [
      "['Berserk', 'JoJo no Kimyou na Bouken Part 7: Steel Ball Run', 'Vagabond', 'One Piece', 'Monster', 'Slam Dunk', 'Vinland Saga', 'Fullmetal Alchemist', 'Grand Blue', 'Oyasumi Punpun', 'Kingdom', 'Houseki no Kuni', '20th Century Boys', 'Ashita no Joe', 'Real', 'Monogatari Series: First Season', 'Mikkakan no Koufuku', 'Kaguya-sama wa Kokurasetai: Tensai-tachi no Renai Zunousen', 'Monogatari Series: Second Season', 'Yotsuba to!', 'GTO', '3-gatsu no Lion', 'Youkoso Jitsuryoku Shijou Shugi no Kyoushitsu e', 'Monogatari Series: Final Season', 'Youkoso Jitsuryoku Shijou Shugi no Kyoushitsu e: 2-nensei-hen', 'Koe no Katachi', 'Haikyuu!!', 'Umineko no Naku Koro ni Chiru - Episode 8: Twilight of the Golden Witch', 'Ookami to Koushinryou', 'Kaze no Tani no Nausicaä', 'Akatsuki no Yona', '86', 'Mushoku Tensei: Isekai Ittara Honki Dasu', 'Re:Zero kara Hajimeru Isekai Seikatsu', 'Jumyou wo Kaitotte Moratta. Ichinen ni Tsuki, Ichimanen de.', 'Nana', 'Uchuu Kyoudai', 'Made in Abyss', 'Yahari Ore no Seishun Love Comedy wa Machigatteiru.', 'One Punch-Man', 'Chainsaw Man', 'Hunter x Hunter', 'Kokou no Hito', 'Honzuki no Gekokujou: Shisho ni Naru Tame ni wa Shudan wo Erandeiraremasen', 'Hajime no Ippo', 'Mushishi', 'Utsuro no Hako to Zero no Maria', 'Shoujo Shuumatsu Ryokou', 'Death Note', 'Sayonara Eri']\n",
      "['9.47', '9.30', '9.24', '9.22', '9.15', '9.08', '9.05', '9.03', '9.03', '9.02', '9.00', '8.96', '8.95', '8.94', '8.93', '8.93', '8.93', '8.92', '8.92', '8.88', '8.88', '8.88', '8.87', '8.86', '8.86', '8.86', '8.85', '8.84', '8.83', '8.82', '8.82', '8.81', '8.80', '8.79', '8.79', '8.79', '8.78', '8.77', '8.77', '8.75', '8.74', '8.73', '8.73', '8.73', '8.72', '8.72', '8.71', '8.70', '8.70', '8.70']\n",
      "[['1'], ['2'], ['3'], ['4'], ['5'], ['6'], ['7'], ['8'], ['9'], ['10'], ['11'], ['12'], ['13'], ['14'], ['15'], ['16'], ['17'], ['18'], ['19'], ['20'], ['21'], ['22'], ['23'], ['24'], ['25'], ['26'], ['27'], ['28'], ['29'], ['30'], ['31'], ['32'], ['33'], ['34'], ['35'], ['36'], ['37'], ['38'], ['39'], ['40'], ['41'], ['42'], ['43'], ['44'], ['45'], ['46'], ['47'], ['48'], ['49'], ['50']]\n",
      "['https://myanimelist.net/manga/2/Berserk', 'https://myanimelist.net/manga/1706/JoJo_no_Kimyou_na_Bouken_Part_7__Steel_Ball_Run', 'https://myanimelist.net/manga/656/Vagabond', 'https://myanimelist.net/manga/13/One_Piece', 'https://myanimelist.net/manga/1/Monster', 'https://myanimelist.net/manga/51/Slam_Dunk', 'https://myanimelist.net/manga/642/Vinland_Saga', 'https://myanimelist.net/manga/25/Fullmetal_Alchemist', 'https://myanimelist.net/manga/70345/Grand_Blue', 'https://myanimelist.net/manga/4632/Oyasumi_Punpun', 'https://myanimelist.net/manga/16765/Kingdom', 'https://myanimelist.net/manga/44489/Houseki_no_Kuni', 'https://myanimelist.net/manga/3/20th_Century_Boys', 'https://myanimelist.net/manga/1303/Ashita_no_Joe', 'https://myanimelist.net/manga/657/Real', 'https://myanimelist.net/manga/14893/Monogatari_Series__First_Season', 'https://myanimelist.net/manga/126479/Mikkakan_no_Koufuku', 'https://myanimelist.net/manga/90125/Kaguya-sama_wa_Kokurasetai__Tensai-tachi_no_Renai_Zunousen', 'https://myanimelist.net/manga/23751/Monogatari_Series__Second_Season', 'https://myanimelist.net/manga/104/Yotsuba_to', 'https://myanimelist.net/manga/336/GTO', 'https://myanimelist.net/manga/1224/3-gatsu_no_Lion', 'https://myanimelist.net/manga/89357/Youkoso_Jitsuryoku_Shijou_Shugi_no_Kyoushitsu_e', 'https://myanimelist.net/manga/44227/Monogatari_Series__Final_Season', 'https://myanimelist.net/manga/123992/Youkoso_Jitsuryoku_Shijou_Shugi_no_Kyoushitsu_e__2-nensei-hen', 'https://myanimelist.net/manga/56805/Koe_no_Katachi', 'https://myanimelist.net/manga/35243/Haikyuu', 'https://myanimelist.net/manga/34053/Umineko_no_Naku_Koro_ni_Chiru_-_Episode_8__Twilight_of_the_Golden_Witch', 'https://myanimelist.net/manga/9115/Ookami_to_Koushinryou', 'https://myanimelist.net/manga/651/Kaze_no_Tani_no_Nausicaä', 'https://myanimelist.net/manga/21525/Akatsuki_no_Yona', 'https://myanimelist.net/manga/104039/86', 'https://myanimelist.net/manga/70261/Mushoku_Tensei__Isekai_Ittara_Honki_Dasu', 'https://myanimelist.net/manga/74697/Re_Zero_kara_Hajimeru_Isekai_Seikatsu', 'https://myanimelist.net/manga/100448/Jumyou_wo_Kaitotte_Moratta_Ichinen_ni_Tsuki_Ichimanen_de', 'https://myanimelist.net/manga/28/Nana', 'https://myanimelist.net/manga/14483/Uchuu_Kyoudai', 'https://myanimelist.net/manga/91941/Made_in_Abyss', 'https://myanimelist.net/manga/40171/Yahari_Ore_no_Seishun_Love_Comedy_wa_Machigatteiru', 'https://myanimelist.net/manga/44347/One_Punch-Man', 'https://myanimelist.net/manga/116778/Chainsaw_Man', 'https://myanimelist.net/manga/26/Hunter_x_Hunter', 'https://myanimelist.net/manga/7375/Kokou_no_Hito', 'https://myanimelist.net/manga/86119/Honzuki_no_Gekokujou__Shisho_ni_Naru_Tame_ni_wa_Shudan_wo_Erandeiraremasen', 'https://myanimelist.net/manga/7/Hajime_no_Ippo', 'https://myanimelist.net/manga/418/Mushishi', 'https://myanimelist.net/manga/55215/Utsuro_no_Hako_to_Zero_no_Maria', 'https://myanimelist.net/manga/72467/Shoujo_Shuumatsu_Ryokou', 'https://myanimelist.net/manga/21/Death_Note', 'https://myanimelist.net/manga/145863/Sayonara_Eri']\n",
      "['Manga (? vols)', 'Manga (24 vols)', 'Manga (37 vols)', 'Manga (? vols)', 'Manga (18 vols)', 'Manga (31 vols)', 'Manga (? vols)', 'Manga (27 vols)', 'Manga (? vols)', 'Manga (13 vols)', 'Manga (? vols)', 'Manga (? vols)', 'Manga (22 vols)', 'Manga (20 vols)', 'Manga (? vols)', 'Light Novel (6 vols)', 'Novel (1 vols)', 'Manga (28 vols)', 'Light Novel (6 vols)', 'Manga (? vols)', 'Manga (25 vols)', 'Manga (? vols)', 'Light Novel (14 vols)', 'Light Novel (6 vols)', 'Light Novel (? vols)', 'Manga (7 vols)', 'Manga (45 vols)', 'Manga (9 vols)', 'Light Novel (? vols)', 'Manga (7 vols)', 'Manga (? vols)', 'Light Novel (? vols)', 'Light Novel (26 vols)', 'Light Novel (? vols)', 'Manga (3 vols)', 'Manga (21 vols)', 'Manga (? vols)', 'Manga (? vols)', 'Light Novel (18 vols)', 'Manga (? vols)', 'Manga (? vols)', 'Manga (? vols)', 'Manga (17 vols)', 'Light Novel (? vols)', 'Manga (? vols)', 'Manga (10 vols)', 'Light Novel (7 vols)', 'Manga (6 vols)', 'Manga (12 vols)', 'Manga (1 vols)']\n",
      "['Aug 1989 -', 'Jan 2004 - Apr 2011', 'Sep 1998 - May 2015', 'Jul 1997 -', 'Dec 1994 - Dec 2001', 'Sep 1990 - Jun 1996', 'Apr 2005 -', 'Jul 2001 - Sep 2010', 'Apr 2014 -', 'Mar 2007 - Nov 2013', 'Jan 2006 -', 'Oct 2012 -', 'Sep 1999 - Apr 2006', 'Jan 1968 - May 1973', 'Oct 1999 -', 'Nov 2006 - Jul 2010', 'Dec 2013 - Dec 2013', 'May 2015 - Nov 2022', 'Oct 2010 - Dec 2011', 'Mar 2003 -', 'Dec 1996 - Jan 2002', 'Jul 2007 -', 'May 2015 - Sep 2019', 'Sep 2012 - Sep 2014', 'Jan 2020 -', 'Aug 2013 - Nov 2014', 'Feb 2012 - Jul 2020', 'Jan 2012 - Jun 2015', 'Feb 2006 -', 'Oct 1982 - Feb 1994', 'Aug 2009 -', 'Feb 2017 -', 'Jan 2014 - Nov 2022', 'Jan 2014 -', 'Aug 2016 - Oct 2017', 'May 2000 - May 2009', 'Dec 2007 -', 'Oct 2012 -', 'Mar 2011 - Apr 2021', 'Jun 2012 -', 'Dec 2018 -', 'Mar 1998 -', 'Nov 2007 - Oct 2011', 'Jan 2015 -', 'Sep 1989 -', 'Nov 1999 - Aug 2008', 'Jan 2009 - Jun 2015', 'Feb 2014 - Jan 2018', 'Dec 2003 - May 2006', 'Apr 2022 - Apr 2022']\n",
      "['652,648 members', '251,802 members', '356,324 members', '588,427 members', '231,526 members', '160,572 members', '286,879 members', '285,811 members', '169,316 members', '419,203 members', '162,992 members', '120,535 members', '240,567 members', '49,358 members', '81,710 members', '57,007 members', '25,800 members', '259,133 members', '22,040 members', '148,259 members', '162,140 members', '64,446 members', '80,682 members', '17,853 members', '33,090 members', '262,353 members', '209,068 members', '15,563 members', '62,054 members', '55,793 members', '129,829 members', '37,183 members', '77,683 members', '66,212 members', '155,811 members', '131,713 members', '33,570 members', '153,323 members', '69,026 members', '461,749 members', '577,607 members', '260,152 members', '93,261 members', '13,203 members', '81,698 members', '79,864 members', '100,997 members', '62,805 members', '383,972 members', '97,625 members']\n"
     ]
    }
   ],
   "source": [
    "print(mangaTitles)\n",
    "print(mangaScore)\n",
    "print(mangaRank)\n",
    "print(mangaLink)\n",
    "print(mangaVolumes)\n",
    "print(mangaPublication)\n",
    "print(mangaMembers)"
   ]
  },
  {
   "cell_type": "code",
   "execution_count": 133,
   "metadata": {},
   "outputs": [
    {
     "name": "stdout",
     "output_type": "stream",
     "text": [
      "                                       Manga Title Score Ranking  \\\n",
      "0                                          Berserk  9.47     [1]   \n",
      "1  JoJo no Kimyou na Bouken Part 7: Steel Ball Run  9.30     [2]   \n",
      "2                                         Vagabond  9.24     [3]   \n",
      "3                                        One Piece  9.22     [4]   \n",
      "4                                          Monster  9.15     [5]   \n",
      "\n",
      "  Type/Volume Count          Publication          Members  \\\n",
      "0    Manga (? vols)           Aug 1989 -  652,648 members   \n",
      "1   Manga (24 vols)  Jan 2004 - Apr 2011  251,802 members   \n",
      "2   Manga (37 vols)  Sep 1998 - May 2015  356,324 members   \n",
      "3    Manga (? vols)           Jul 1997 -  588,427 members   \n",
      "4   Manga (18 vols)  Dec 1994 - Dec 2001  231,526 members   \n",
      "\n",
      "                                                Link  \n",
      "0            https://myanimelist.net/manga/2/Berserk  \n",
      "1  https://myanimelist.net/manga/1706/JoJo_no_Kim...  \n",
      "2         https://myanimelist.net/manga/656/Vagabond  \n",
      "3         https://myanimelist.net/manga/13/One_Piece  \n",
      "4            https://myanimelist.net/manga/1/Monster  \n"
     ]
    }
   ],
   "source": [
    "df = pd.DataFrame(\n",
    "    {'Manga Title': mangaTitles,\n",
    "     'Score': mangaScore,\n",
    "     'Ranking': mangaRank,\n",
    "     'Type/Volume Count': mangaVolumes,\n",
    "     'Publication': mangaPublication,\n",
    "     'Members': mangaMembers,\n",
    "     'Link': mangaLink,\n",
    "     }\n",
    "    )\n",
    "\n",
    "print (df.head())\n",
    "\n",
    "df.to_csv('MAL_TopManga.csv', index=False)"
   ]
  },
  {
   "cell_type": "code",
   "execution_count": 134,
   "metadata": {},
   "outputs": [
    {
     "name": "stdout",
     "output_type": "stream",
     "text": [
      "50\n"
     ]
    }
   ],
   "source": [
    "#Website 2 - IMDB\n",
    "html_text2 = requests.get('https://www.imdb.com/search/title/?groups=top_1000')\n",
    "soup2 = BeautifulSoup(html_text2.text, 'html.parser')\n",
    "cooper = soup2.find_all(\"div\", class_=\"lister-item mode-advanced\")\n",
    "print(len(cooper))"
   ]
  },
  {
   "cell_type": "code",
   "execution_count": 135,
   "metadata": {},
   "outputs": [],
   "source": [
    "movieTitle = []\n",
    "movieYear = []\n",
    "movieGenre = []\n",
    "movieRuntime = []\n",
    "movieRating = []\n",
    "movieVotes = []\n",
    "movieLink = []\n"
   ]
  },
  {
   "cell_type": "code",
   "execution_count": 136,
   "metadata": {},
   "outputs": [
    {
     "name": "stdout",
     "output_type": "stream",
     "text": [
      "['Oppenheimer', 'Spider-Man: Across the Spider-Verse', 'Guardians of the Galaxy Vol. 3', 'Mission: Impossible - Dead Reckoning Part One', 'The Batman', 'John Wick: Chapter 4', 'Interstellar', 'The Godfather', 'The Shawshank Redemption', 'The Dark Knight', 'The Exorcist', 'The Wolf of Wall Street', \"Harry Potter and the Sorcerer's Stone\", 'Stand by Me', 'Dune: Part One', 'Inception', 'Everything Everywhere All at Once', 'Inglourious Basterds', 'The Whale', 'Raiders of the Lost Ark', 'Pulp Fiction', 'The Big Short', 'Once Upon a Time in... Hollywood', 'Titanic', 'Joker', 'Top Gun: Maverick', 'Arrival', 'Goodfellas', 'Jurassic Park', 'Jaws', 'The Deer Hunter', 'Wind River', 'The Lord of the Rings: The Fellowship of the Ring', 'Se7en', 'Alien', 'Fight Club', 'Gladiator', 'Mad Max: Fury Road', 'Heat', 'Blade Runner 2049', 'Back to the Future', 'The Silence of the Lambs', 'Gone Girl', 'No Country for Old Men', 'Prisoners', 'Pirates of the Caribbean: The Curse of the Black Pearl', 'The Dark Knight Rises', 'Hacksaw Ridge', 'The Prestige', 'Gisaengchung']\n"
     ]
    }
   ],
   "source": [
    "for movie in cooper:\n",
    "    movieTitle.append(movie.h3.a.text)\n",
    "print(movieTitle)\n",
    "    "
   ]
  },
  {
   "cell_type": "code",
   "execution_count": 137,
   "metadata": {},
   "outputs": [
    {
     "name": "stdout",
     "output_type": "stream",
     "text": [
      "['2023', '2023', '2023', '2023', '2022', '2023', '2014', '1972', '1994', '2008', '1973', '2013', '2001', '1986', '2021', '2010', '2022', '2009', '2022', '1981', '1994', '2015', '2019', '1997', 'I 2019', '2022', 'II 2016', '1990', '1993', '1975', '1978', '2017', '2001', '1995', '1979', '1999', '2000', '2015', '1995', '2017', '1985', '1991', '2014', '2007', '2013', '2003', '2012', '2016', '2006', '2019']\n"
     ]
    }
   ],
   "source": [
    "for movie in cooper:\n",
    "    releaseYear = movie.h3.find('span', class_ = 'lister-item-year text-muted unbold').text.replace('(', '').replace(')', '')\n",
    "    movieYear.append(releaseYear)\n",
    "    \n",
    "print(movieYear)"
   ]
  },
  {
   "cell_type": "code",
   "execution_count": 138,
   "metadata": {},
   "outputs": [
    {
     "name": "stdout",
     "output_type": "stream",
     "text": [
      "[' Biography, Drama, History            ', ' Animation, Action, Adventure            ', ' Action, Adventure, Comedy            ', ' Action, Adventure, Thriller            ', ' Action, Crime, Drama            ', ' Action, Crime, Thriller            ', ' Adventure, Drama, Sci-Fi            ', ' Crime, Drama            ', ' Drama            ', ' Action, Crime, Drama            ', ' Horror            ', ' Biography, Comedy, Crime            ', ' Adventure, Family, Fantasy            ', ' Adventure, Comedy, Drama            ', ' Action, Adventure, Drama            ', ' Action, Adventure, Sci-Fi            ', ' Action, Adventure, Comedy            ', ' Adventure, Drama, War            ', ' Drama            ', ' Action, Adventure            ', ' Crime, Drama            ', ' Biography, Comedy, Drama            ', ' Comedy, Drama            ', ' Drama, Romance            ', ' Crime, Drama, Thriller            ', ' Action, Drama            ', ' Drama, Mystery, Sci-Fi            ', ' Biography, Crime, Drama            ', ' Action, Adventure, Sci-Fi            ', ' Adventure, Mystery, Thriller            ', ' Drama, War            ', ' Crime, Drama, Mystery            ', ' Action, Adventure, Drama            ', ' Crime, Drama, Mystery            ', ' Horror, Sci-Fi            ', ' Drama            ', ' Action, Adventure, Drama            ', ' Action, Adventure, Sci-Fi            ', ' Action, Crime, Drama            ', ' Action, Drama, Mystery            ', ' Adventure, Comedy, Sci-Fi            ', ' Crime, Drama, Thriller            ', ' Drama, Mystery, Thriller            ', ' Crime, Drama, Thriller            ', ' Crime, Drama, Mystery            ', ' Action, Adventure, Fantasy            ', ' Action, Drama, Thriller            ', ' Biography, Drama, History            ', ' Drama, Mystery, Sci-Fi            ', ' Drama, Thriller            ']\n"
     ]
    }
   ],
   "source": [
    "for movie in cooper:\n",
    "    genre = movie.p.find('span', class_ = 'genre').text.replace('\\n', ' ')\n",
    "    movieGenre.append(genre)\n",
    "    \n",
    "print(movieGenre)"
   ]
  },
  {
   "cell_type": "code",
   "execution_count": 139,
   "metadata": {},
   "outputs": [
    {
     "name": "stdout",
     "output_type": "stream",
     "text": [
      "['180 min', '140 min', '150 min', '163 min', '176 min', '169 min', '169 min', '175 min', '142 min', '152 min', '122 min', '180 min', '152 min', '89 min', '155 min', '148 min', '139 min', '153 min', '117 min', '115 min', '154 min', '130 min', '161 min', '194 min', '122 min', '130 min', '116 min', '145 min', '127 min', '124 min', '183 min', '107 min', '178 min', '127 min', '117 min', '139 min', '155 min', '120 min', '170 min', '164 min', '116 min', '118 min', '149 min', '122 min', '153 min', '143 min', '164 min', '139 min', '130 min', '132 min']\n"
     ]
    }
   ],
   "source": [
    "for movie in cooper:\n",
    "    runtime = movie.p.find('span', class_ = 'runtime').text\n",
    "    movieRuntime.append(runtime)\n",
    "    \n",
    "print(movieRuntime)"
   ]
  },
  {
   "cell_type": "code",
   "execution_count": 140,
   "metadata": {},
   "outputs": [
    {
     "name": "stdout",
     "output_type": "stream",
     "text": [
      "['8.6', '8.7', '7.9', '7.9', '7.8', '7.8', '8.7', '9.2', '9.3', '9.0', '8.1', '8.2', '7.6', '8.1', '8.0', '8.8', '7.8', '8.3', '7.7', '8.4', '8.9', '7.8', '7.6', '7.9', '8.4', '8.3', '7.9', '8.7', '8.2', '8.1', '8.1', '7.7', '8.8', '8.6', '8.5', '8.8', '8.5', '8.1', '8.3', '8.0', '8.5', '8.6', '8.1', '8.2', '8.1', '8.1', '8.4', '8.1', '8.5', '8.5']\n"
     ]
    }
   ],
   "source": [
    "for movie in cooper:\n",
    "    rating = movie.find('div', class_ = 'inline-block ratings-imdb-rating').text.replace('\\n', '')\n",
    "    movieRating.append(rating)\n",
    "    \n",
    "print(movieRating)\n"
   ]
  },
  {
   "cell_type": "code",
   "execution_count": 141,
   "metadata": {},
   "outputs": [
    {
     "name": "stdout",
     "output_type": "stream",
     "text": [
      "['437,656', '261,621', '318,467', '138,891', '731,386', '275,270', '1,989,245', '1,950,531', '2,799,566', '2,780,898', '431,753', '1,508,030', '824,688', '426,508', '715,915', '2,468,670', '479,004', '1,525,017', '178,570', '1,013,228', '2,147,383', '462,722', '800,654', '1,246,916', '1,401,683', '630,431', '736,952', '1,214,829', '1,034,656', '639,869', '352,043', '268,110', '1,945,011', '1,733,649', '919,286', '2,233,333', '1,562,995', '1,048,481', '692,981', '623,803', '1,263,526', '1,493,906', '1,029,656', '1,022,783', '770,220', '1,174,225', '1,776,357', '567,258', '1,396,591', '888,155']\n"
     ]
    }
   ],
   "source": [
    "for movie in cooper:\n",
    "    votePos = movie.find_all('span', attrs = {'name': 'nv'})\n",
    "    votes = votePos[0].text\n",
    "    movieVotes.append(votes)\n",
    "    \n",
    "print(movieVotes)"
   ]
  },
  {
   "cell_type": "code",
   "execution_count": 142,
   "metadata": {},
   "outputs": [
    {
     "name": "stdout",
     "output_type": "stream",
     "text": [
      "                                           Title Release Year  \\\n",
      "0                                    Oppenheimer         2023   \n",
      "1            Spider-Man: Across the Spider-Verse         2023   \n",
      "2                 Guardians of the Galaxy Vol. 3         2023   \n",
      "3  Mission: Impossible - Dead Reckoning Part One         2023   \n",
      "4                                     The Batman         2022   \n",
      "\n",
      "                                       Genre  Runtime Rating    Votes  \n",
      "0      Biography, Drama, History              180 min    8.6  437,656  \n",
      "1   Animation, Action, Adventure              140 min    8.7  261,621  \n",
      "2      Action, Adventure, Comedy              150 min    7.9  318,467  \n",
      "3    Action, Adventure, Thriller              163 min    7.9  138,891  \n",
      "4           Action, Crime, Drama              176 min    7.8  731,386  \n"
     ]
    }
   ],
   "source": [
    "mvdf = pd.DataFrame(\n",
    "    {'Title': movieTitle, \n",
    "     'Release Year': movieYear,\n",
    "     'Genre': movieGenre,\n",
    "     'Runtime': movieRuntime,\n",
    "     'Rating': movieRating,\n",
    "     'Votes': movieVotes,\n",
    "     }\n",
    "    )\n",
    "\n",
    "print (mvdf.head())\n",
    "\n",
    "mvdf.to_csv('MovieIMDB.csv', index=False)"
   ]
  }
 ],
 "metadata": {
  "kernelspec": {
   "display_name": "Python 3",
   "language": "python",
   "name": "python3"
  },
  "language_info": {
   "codemirror_mode": {
    "name": "ipython",
    "version": 3
   },
   "file_extension": ".py",
   "mimetype": "text/x-python",
   "name": "python",
   "nbconvert_exporter": "python",
   "pygments_lexer": "ipython3",
   "version": "3.10.9"
  },
  "orig_nbformat": 4
 },
 "nbformat": 4,
 "nbformat_minor": 2
}
