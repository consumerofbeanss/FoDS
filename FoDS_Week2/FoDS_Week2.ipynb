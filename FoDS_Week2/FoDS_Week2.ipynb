{
 "cells": [
  {
   "cell_type": "code",
   "execution_count": 10,
   "metadata": {},
   "outputs": [],
   "source": [
    "from bs4 import BeautifulSoup\n",
    "import requests\n",
    "import re\n",
    "import pandas as pd"
   ]
  },
  {
   "cell_type": "code",
   "execution_count": 11,
   "metadata": {},
   "outputs": [
    {
     "name": "stdout",
     "output_type": "stream",
     "text": [
      "50\n"
     ]
    }
   ],
   "source": [
    "html_text=requests.get('https://myanimelist.net/topmanga.php')\n",
    "soup = BeautifulSoup(html_text.text, 'html.parser')\n",
    "mango = soup.find_all('tr', attrs= {'class': 'ranking-list'})\n",
    "print(len(mango))"
   ]
  },
  {
   "cell_type": "code",
   "execution_count": 12,
   "metadata": {},
   "outputs": [
    {
     "name": "stdout",
     "output_type": "stream",
     "text": [
      "['Berserk', 'JoJo no Kimyou na Bouken Part 7: Steel Ball Run', 'Vagabond', 'One Piece', 'Monster', 'Slam Dunk', 'Vinland Saga', 'Fullmetal Alchemist', 'Grand Blue', 'Oyasumi Punpun', 'Kingdom', 'Houseki no Kuni', '20th Century Boys', 'Ashita no Joe', 'Real', 'Monogatari Series: First Season', 'Mikkakan no Koufuku', 'Kaguya-sama wa Kokurasetai: Tensai-tachi no Renai Zunousen', 'Monogatari Series: Second Season', 'Yotsuba to!', 'GTO', '3-gatsu no Lion', 'Youkoso Jitsuryoku Shijou Shugi no Kyoushitsu e', 'Monogatari Series: Final Season', 'Youkoso Jitsuryoku Shijou Shugi no Kyoushitsu e: 2-nensei-hen', 'Koe no Katachi', 'Haikyuu!!', 'Umineko no Naku Koro ni Chiru - Episode 8: Twilight of the Golden Witch', 'Ookami to Koushinryou', 'Kaze no Tani no Nausicaä', 'Akatsuki no Yona', '86', 'Mushoku Tensei: Isekai Ittara Honki Dasu', 'Re:Zero kara Hajimeru Isekai Seikatsu', 'Jumyou wo Kaitotte Moratta. Ichinen ni Tsuki, Ichimanen de.', 'Nana', 'Uchuu Kyoudai', 'Made in Abyss', 'Yahari Ore no Seishun Love Comedy wa Machigatteiru.', 'One Punch-Man', 'Chainsaw Man', 'Hunter x Hunter', 'Kokou no Hito', 'Honzuki no Gekokujou: Shisho ni Naru Tame ni wa Shudan wo Erandeiraremasen', 'Hajime no Ippo', 'Mushishi', 'Utsuro no Hako to Zero no Maria', 'Shoujo Shuumatsu Ryokou', 'Death Note', 'Sayonara Eri']\n"
     ]
    }
   ],
   "source": [
    "mangaTitles = []\n",
    "for manga in mango:\n",
    "    mangaTitle = manga.h3.a.text\n",
    "    mangaTitles.append(mangaTitle)    \n",
    "print(mangaTitles)"
   ]
  },
  {
   "cell_type": "code",
   "execution_count": 13,
   "metadata": {},
   "outputs": [
    {
     "name": "stdout",
     "output_type": "stream",
     "text": [
      "['9.47', '9.30', '9.24', '9.22', '9.15', '9.08', '9.05', '9.03', '9.03', '9.02', '9.00', '8.96', '8.95', '8.94', '8.93', '8.93', '8.93', '8.92', '8.92', '8.88', '8.88', '8.88', '8.87', '8.86', '8.86', '8.86', '8.85', '8.84', '8.83', '8.82', '8.82', '8.81', '8.80', '8.79', '8.79', '8.79', '8.78', '8.77', '8.77', '8.75', '8.74', '8.73', '8.73', '8.73', '8.72', '8.72', '8.71', '8.70', '8.70', '8.70']\n"
     ]
    }
   ],
   "source": [
    "mangaScore = []\n",
    "mangoScore = soup.find_all('td', attrs= {'class': 'score ac fs14'})\n",
    "for manga in mangoScore:\n",
    "    mangaScore.append(manga.div.text)\n",
    "print(mangaScore)\n"
   ]
  },
  {
   "cell_type": "code",
   "execution_count": 14,
   "metadata": {},
   "outputs": [
    {
     "name": "stdout",
     "output_type": "stream",
     "text": [
      "[['1'], ['2'], ['3'], ['4'], ['5'], ['6'], ['7'], ['8'], ['9'], ['10'], ['11'], ['12'], ['13'], ['14'], ['15'], ['16'], ['17'], ['18'], ['19'], ['20'], ['21'], ['22'], ['23'], ['24'], ['25'], ['26'], ['27'], ['28'], ['29'], ['30'], ['31'], ['32'], ['33'], ['34'], ['35'], ['36'], ['37'], ['38'], ['39'], ['40'], ['41'], ['42'], ['43'], ['44'], ['45'], ['46'], ['47'], ['48'], ['49'], ['50']]\n"
     ]
    }
   ],
   "source": [
    "mangaRank = []\n",
    "mangoRank = soup.find_all('td', attrs= {'class': 'rank ac'})\n",
    "for manga in mangoRank:\n",
    "    mangaRank.append(manga.text.strip().split('\\n'))\n",
    "print(mangaRank)\n"
   ]
  },
  {
   "cell_type": "code",
   "execution_count": 15,
   "metadata": {},
   "outputs": [
    {
     "name": "stdout",
     "output_type": "stream",
     "text": [
      "['https://myanimelist.net/manga/2/Berserk', 'https://myanimelist.net/manga/1706/JoJo_no_Kimyou_na_Bouken_Part_7__Steel_Ball_Run', 'https://myanimelist.net/manga/656/Vagabond', 'https://myanimelist.net/manga/13/One_Piece', 'https://myanimelist.net/manga/1/Monster', 'https://myanimelist.net/manga/51/Slam_Dunk', 'https://myanimelist.net/manga/642/Vinland_Saga', 'https://myanimelist.net/manga/25/Fullmetal_Alchemist', 'https://myanimelist.net/manga/70345/Grand_Blue', 'https://myanimelist.net/manga/4632/Oyasumi_Punpun', 'https://myanimelist.net/manga/16765/Kingdom', 'https://myanimelist.net/manga/44489/Houseki_no_Kuni', 'https://myanimelist.net/manga/3/20th_Century_Boys', 'https://myanimelist.net/manga/1303/Ashita_no_Joe', 'https://myanimelist.net/manga/657/Real', 'https://myanimelist.net/manga/14893/Monogatari_Series__First_Season', 'https://myanimelist.net/manga/126479/Mikkakan_no_Koufuku', 'https://myanimelist.net/manga/90125/Kaguya-sama_wa_Kokurasetai__Tensai-tachi_no_Renai_Zunousen', 'https://myanimelist.net/manga/23751/Monogatari_Series__Second_Season', 'https://myanimelist.net/manga/104/Yotsuba_to', 'https://myanimelist.net/manga/336/GTO', 'https://myanimelist.net/manga/1224/3-gatsu_no_Lion', 'https://myanimelist.net/manga/89357/Youkoso_Jitsuryoku_Shijou_Shugi_no_Kyoushitsu_e', 'https://myanimelist.net/manga/44227/Monogatari_Series__Final_Season', 'https://myanimelist.net/manga/123992/Youkoso_Jitsuryoku_Shijou_Shugi_no_Kyoushitsu_e__2-nensei-hen', 'https://myanimelist.net/manga/56805/Koe_no_Katachi', 'https://myanimelist.net/manga/35243/Haikyuu', 'https://myanimelist.net/manga/34053/Umineko_no_Naku_Koro_ni_Chiru_-_Episode_8__Twilight_of_the_Golden_Witch', 'https://myanimelist.net/manga/9115/Ookami_to_Koushinryou', 'https://myanimelist.net/manga/651/Kaze_no_Tani_no_Nausicaä', 'https://myanimelist.net/manga/21525/Akatsuki_no_Yona', 'https://myanimelist.net/manga/104039/86', 'https://myanimelist.net/manga/70261/Mushoku_Tensei__Isekai_Ittara_Honki_Dasu', 'https://myanimelist.net/manga/74697/Re_Zero_kara_Hajimeru_Isekai_Seikatsu', 'https://myanimelist.net/manga/100448/Jumyou_wo_Kaitotte_Moratta_Ichinen_ni_Tsuki_Ichimanen_de', 'https://myanimelist.net/manga/28/Nana', 'https://myanimelist.net/manga/14483/Uchuu_Kyoudai', 'https://myanimelist.net/manga/91941/Made_in_Abyss', 'https://myanimelist.net/manga/40171/Yahari_Ore_no_Seishun_Love_Comedy_wa_Machigatteiru', 'https://myanimelist.net/manga/44347/One_Punch-Man', 'https://myanimelist.net/manga/116778/Chainsaw_Man', 'https://myanimelist.net/manga/26/Hunter_x_Hunter', 'https://myanimelist.net/manga/7375/Kokou_no_Hito', 'https://myanimelist.net/manga/86119/Honzuki_no_Gekokujou__Shisho_ni_Naru_Tame_ni_wa_Shudan_wo_Erandeiraremasen', 'https://myanimelist.net/manga/7/Hajime_no_Ippo', 'https://myanimelist.net/manga/418/Mushishi', 'https://myanimelist.net/manga/55215/Utsuro_no_Hako_to_Zero_no_Maria', 'https://myanimelist.net/manga/72467/Shoujo_Shuumatsu_Ryokou', 'https://myanimelist.net/manga/21/Death_Note', 'https://myanimelist.net/manga/145863/Sayonara_Eri']\n"
     ]
    }
   ],
   "source": [
    "mangaLink = []\n",
    "for manga in mango:\n",
    "    mangaLink.append(manga.h3.a['href'])\n",
    "print(mangaLink)\n"
   ]
  },
  {
   "cell_type": "code",
   "execution_count": 16,
   "metadata": {},
   "outputs": [
    {
     "name": "stdout",
     "output_type": "stream",
     "text": [
      "['Manga (? vols)', 'Manga (24 vols)', 'Manga (37 vols)', 'Manga (? vols)', 'Manga (18 vols)', 'Manga (31 vols)', 'Manga (? vols)', 'Manga (27 vols)', 'Manga (? vols)', 'Manga (13 vols)', 'Manga (? vols)', 'Manga (? vols)', 'Manga (22 vols)', 'Manga (20 vols)', 'Manga (? vols)', 'Light Novel (6 vols)', 'Novel (1 vols)', 'Manga (28 vols)', 'Light Novel (6 vols)', 'Manga (? vols)', 'Manga (25 vols)', 'Manga (? vols)', 'Light Novel (14 vols)', 'Light Novel (6 vols)', 'Light Novel (? vols)', 'Manga (7 vols)', 'Manga (45 vols)', 'Manga (9 vols)', 'Light Novel (? vols)', 'Manga (7 vols)', 'Manga (? vols)', 'Light Novel (? vols)', 'Light Novel (26 vols)', 'Light Novel (? vols)', 'Manga (3 vols)', 'Manga (21 vols)', 'Manga (? vols)', 'Manga (? vols)', 'Light Novel (18 vols)', 'Manga (? vols)', 'Manga (? vols)', 'Manga (? vols)', 'Manga (17 vols)', 'Light Novel (? vols)', 'Manga (? vols)', 'Manga (10 vols)', 'Light Novel (7 vols)', 'Manga (6 vols)', 'Manga (12 vols)', 'Manga (1 vols)']\n",
      "['Aug 1989 -', 'Jan 2004 - Apr 2011', 'Sep 1998 - May 2015', 'Jul 1997 -', 'Dec 1994 - Dec 2001', 'Sep 1990 - Jun 1996', 'Apr 2005 -', 'Jul 2001 - Sep 2010', 'Apr 2014 -', 'Mar 2007 - Nov 2013', 'Jan 2006 -', 'Oct 2012 -', 'Sep 1999 - Apr 2006', 'Jan 1968 - May 1973', 'Oct 1999 -', 'Nov 2006 - Jul 2010', 'Dec 2013 - Dec 2013', 'May 2015 - Nov 2022', 'Oct 2010 - Dec 2011', 'Mar 2003 -', 'Dec 1996 - Jan 2002', 'Jul 2007 -', 'May 2015 - Sep 2019', 'Sep 2012 - Sep 2014', 'Jan 2020 -', 'Aug 2013 - Nov 2014', 'Feb 2012 - Jul 2020', 'Jan 2012 - Jun 2015', 'Feb 2006 -', 'Oct 1982 - Feb 1994', 'Aug 2009 -', 'Feb 2017 -', 'Jan 2014 - Nov 2022', 'Jan 2014 -', 'Aug 2016 - Oct 2017', 'May 2000 - May 2009', 'Dec 2007 -', 'Oct 2012 -', 'Mar 2011 - Apr 2021', 'Jun 2012 -', 'Dec 2018 -', 'Mar 1998 -', 'Nov 2007 - Oct 2011', 'Jan 2015 -', 'Sep 1989 -', 'Nov 1999 - Aug 2008', 'Jan 2009 - Jun 2015', 'Feb 2014 - Jan 2018', 'Dec 2003 - May 2006', 'Apr 2022 - Apr 2022']\n",
      "['652,557 members', '251,772 members', '356,277 members', '588,339 members', '231,492 members', '160,544 members', '286,835 members', '285,789 members', '169,302 members', '419,168 members', '162,974 members', '120,510 members', '240,540 members', '49,352 members', '81,705 members', '57,004 members', '25,794 members', '259,113 members', '22,038 members', '148,252 members', '162,128 members', '64,434 members', '80,674 members', '17,851 members', '33,087 members', '262,335 members', '209,051 members', '15,562 members', '62,049 members', '55,791 members', '129,826 members', '37,180 members', '77,668 members', '66,206 members', '155,801 members', '131,699 members', '33,568 members', '153,310 members', '69,019 members', '461,711 members', '577,550 members', '260,139 members', '93,235 members', '13,200 members', '81,693 members', '79,856 members', '100,992 members', '62,796 members', '383,950 members', '97,594 members']\n"
     ]
    }
   ],
   "source": [
    "mangaVolumes = []\n",
    "mangaPublication = []\n",
    "mangaMembers = []\n",
    "\n",
    "mangoInfo = soup.select('div.information')\n",
    "mangoText = (i.get_text() for i in mangoInfo)\n",
    "\n",
    "for text in mangoText:\n",
    "    elements = text.strip().split('\\n')\n",
    "    if len(elements)>=3:\n",
    "        mangaVolume = elements[0].strip()\n",
    "        mangaPublicationDate = elements[1].strip()\n",
    "        mangaMemberCount = elements[2].strip()\n",
    "        \n",
    "        mangaVolumes.append(mangaVolume)\n",
    "        mangaPublication.append(mangaPublicationDate)\n",
    "        mangaMembers.append(mangaMemberCount)\n",
    "        \n",
    "        \n",
    "        \n",
    "        \n",
    "        \n",
    "print(mangaVolumes)\n",
    "print(mangaPublication)\n",
    "print(mangaMembers)"
   ]
  },
  {
   "cell_type": "code",
   "execution_count": 17,
   "metadata": {},
   "outputs": [
    {
     "name": "stdout",
     "output_type": "stream",
     "text": [
      "['Berserk', 'JoJo no Kimyou na Bouken Part 7: Steel Ball Run', 'Vagabond', 'One Piece', 'Monster', 'Slam Dunk', 'Vinland Saga', 'Fullmetal Alchemist', 'Grand Blue', 'Oyasumi Punpun', 'Kingdom', 'Houseki no Kuni', '20th Century Boys', 'Ashita no Joe', 'Real', 'Monogatari Series: First Season', 'Mikkakan no Koufuku', 'Kaguya-sama wa Kokurasetai: Tensai-tachi no Renai Zunousen', 'Monogatari Series: Second Season', 'Yotsuba to!', 'GTO', '3-gatsu no Lion', 'Youkoso Jitsuryoku Shijou Shugi no Kyoushitsu e', 'Monogatari Series: Final Season', 'Youkoso Jitsuryoku Shijou Shugi no Kyoushitsu e: 2-nensei-hen', 'Koe no Katachi', 'Haikyuu!!', 'Umineko no Naku Koro ni Chiru - Episode 8: Twilight of the Golden Witch', 'Ookami to Koushinryou', 'Kaze no Tani no Nausicaä', 'Akatsuki no Yona', '86', 'Mushoku Tensei: Isekai Ittara Honki Dasu', 'Re:Zero kara Hajimeru Isekai Seikatsu', 'Jumyou wo Kaitotte Moratta. Ichinen ni Tsuki, Ichimanen de.', 'Nana', 'Uchuu Kyoudai', 'Made in Abyss', 'Yahari Ore no Seishun Love Comedy wa Machigatteiru.', 'One Punch-Man', 'Chainsaw Man', 'Hunter x Hunter', 'Kokou no Hito', 'Honzuki no Gekokujou: Shisho ni Naru Tame ni wa Shudan wo Erandeiraremasen', 'Hajime no Ippo', 'Mushishi', 'Utsuro no Hako to Zero no Maria', 'Shoujo Shuumatsu Ryokou', 'Death Note', 'Sayonara Eri']\n",
      "['9.47', '9.30', '9.24', '9.22', '9.15', '9.08', '9.05', '9.03', '9.03', '9.02', '9.00', '8.96', '8.95', '8.94', '8.93', '8.93', '8.93', '8.92', '8.92', '8.88', '8.88', '8.88', '8.87', '8.86', '8.86', '8.86', '8.85', '8.84', '8.83', '8.82', '8.82', '8.81', '8.80', '8.79', '8.79', '8.79', '8.78', '8.77', '8.77', '8.75', '8.74', '8.73', '8.73', '8.73', '8.72', '8.72', '8.71', '8.70', '8.70', '8.70']\n",
      "[['1'], ['2'], ['3'], ['4'], ['5'], ['6'], ['7'], ['8'], ['9'], ['10'], ['11'], ['12'], ['13'], ['14'], ['15'], ['16'], ['17'], ['18'], ['19'], ['20'], ['21'], ['22'], ['23'], ['24'], ['25'], ['26'], ['27'], ['28'], ['29'], ['30'], ['31'], ['32'], ['33'], ['34'], ['35'], ['36'], ['37'], ['38'], ['39'], ['40'], ['41'], ['42'], ['43'], ['44'], ['45'], ['46'], ['47'], ['48'], ['49'], ['50']]\n",
      "['https://myanimelist.net/manga/2/Berserk', 'https://myanimelist.net/manga/1706/JoJo_no_Kimyou_na_Bouken_Part_7__Steel_Ball_Run', 'https://myanimelist.net/manga/656/Vagabond', 'https://myanimelist.net/manga/13/One_Piece', 'https://myanimelist.net/manga/1/Monster', 'https://myanimelist.net/manga/51/Slam_Dunk', 'https://myanimelist.net/manga/642/Vinland_Saga', 'https://myanimelist.net/manga/25/Fullmetal_Alchemist', 'https://myanimelist.net/manga/70345/Grand_Blue', 'https://myanimelist.net/manga/4632/Oyasumi_Punpun', 'https://myanimelist.net/manga/16765/Kingdom', 'https://myanimelist.net/manga/44489/Houseki_no_Kuni', 'https://myanimelist.net/manga/3/20th_Century_Boys', 'https://myanimelist.net/manga/1303/Ashita_no_Joe', 'https://myanimelist.net/manga/657/Real', 'https://myanimelist.net/manga/14893/Monogatari_Series__First_Season', 'https://myanimelist.net/manga/126479/Mikkakan_no_Koufuku', 'https://myanimelist.net/manga/90125/Kaguya-sama_wa_Kokurasetai__Tensai-tachi_no_Renai_Zunousen', 'https://myanimelist.net/manga/23751/Monogatari_Series__Second_Season', 'https://myanimelist.net/manga/104/Yotsuba_to', 'https://myanimelist.net/manga/336/GTO', 'https://myanimelist.net/manga/1224/3-gatsu_no_Lion', 'https://myanimelist.net/manga/89357/Youkoso_Jitsuryoku_Shijou_Shugi_no_Kyoushitsu_e', 'https://myanimelist.net/manga/44227/Monogatari_Series__Final_Season', 'https://myanimelist.net/manga/123992/Youkoso_Jitsuryoku_Shijou_Shugi_no_Kyoushitsu_e__2-nensei-hen', 'https://myanimelist.net/manga/56805/Koe_no_Katachi', 'https://myanimelist.net/manga/35243/Haikyuu', 'https://myanimelist.net/manga/34053/Umineko_no_Naku_Koro_ni_Chiru_-_Episode_8__Twilight_of_the_Golden_Witch', 'https://myanimelist.net/manga/9115/Ookami_to_Koushinryou', 'https://myanimelist.net/manga/651/Kaze_no_Tani_no_Nausicaä', 'https://myanimelist.net/manga/21525/Akatsuki_no_Yona', 'https://myanimelist.net/manga/104039/86', 'https://myanimelist.net/manga/70261/Mushoku_Tensei__Isekai_Ittara_Honki_Dasu', 'https://myanimelist.net/manga/74697/Re_Zero_kara_Hajimeru_Isekai_Seikatsu', 'https://myanimelist.net/manga/100448/Jumyou_wo_Kaitotte_Moratta_Ichinen_ni_Tsuki_Ichimanen_de', 'https://myanimelist.net/manga/28/Nana', 'https://myanimelist.net/manga/14483/Uchuu_Kyoudai', 'https://myanimelist.net/manga/91941/Made_in_Abyss', 'https://myanimelist.net/manga/40171/Yahari_Ore_no_Seishun_Love_Comedy_wa_Machigatteiru', 'https://myanimelist.net/manga/44347/One_Punch-Man', 'https://myanimelist.net/manga/116778/Chainsaw_Man', 'https://myanimelist.net/manga/26/Hunter_x_Hunter', 'https://myanimelist.net/manga/7375/Kokou_no_Hito', 'https://myanimelist.net/manga/86119/Honzuki_no_Gekokujou__Shisho_ni_Naru_Tame_ni_wa_Shudan_wo_Erandeiraremasen', 'https://myanimelist.net/manga/7/Hajime_no_Ippo', 'https://myanimelist.net/manga/418/Mushishi', 'https://myanimelist.net/manga/55215/Utsuro_no_Hako_to_Zero_no_Maria', 'https://myanimelist.net/manga/72467/Shoujo_Shuumatsu_Ryokou', 'https://myanimelist.net/manga/21/Death_Note', 'https://myanimelist.net/manga/145863/Sayonara_Eri']\n",
      "['Manga (? vols)', 'Manga (24 vols)', 'Manga (37 vols)', 'Manga (? vols)', 'Manga (18 vols)', 'Manga (31 vols)', 'Manga (? vols)', 'Manga (27 vols)', 'Manga (? vols)', 'Manga (13 vols)', 'Manga (? vols)', 'Manga (? vols)', 'Manga (22 vols)', 'Manga (20 vols)', 'Manga (? vols)', 'Light Novel (6 vols)', 'Novel (1 vols)', 'Manga (28 vols)', 'Light Novel (6 vols)', 'Manga (? vols)', 'Manga (25 vols)', 'Manga (? vols)', 'Light Novel (14 vols)', 'Light Novel (6 vols)', 'Light Novel (? vols)', 'Manga (7 vols)', 'Manga (45 vols)', 'Manga (9 vols)', 'Light Novel (? vols)', 'Manga (7 vols)', 'Manga (? vols)', 'Light Novel (? vols)', 'Light Novel (26 vols)', 'Light Novel (? vols)', 'Manga (3 vols)', 'Manga (21 vols)', 'Manga (? vols)', 'Manga (? vols)', 'Light Novel (18 vols)', 'Manga (? vols)', 'Manga (? vols)', 'Manga (? vols)', 'Manga (17 vols)', 'Light Novel (? vols)', 'Manga (? vols)', 'Manga (10 vols)', 'Light Novel (7 vols)', 'Manga (6 vols)', 'Manga (12 vols)', 'Manga (1 vols)']\n",
      "['Aug 1989 -', 'Jan 2004 - Apr 2011', 'Sep 1998 - May 2015', 'Jul 1997 -', 'Dec 1994 - Dec 2001', 'Sep 1990 - Jun 1996', 'Apr 2005 -', 'Jul 2001 - Sep 2010', 'Apr 2014 -', 'Mar 2007 - Nov 2013', 'Jan 2006 -', 'Oct 2012 -', 'Sep 1999 - Apr 2006', 'Jan 1968 - May 1973', 'Oct 1999 -', 'Nov 2006 - Jul 2010', 'Dec 2013 - Dec 2013', 'May 2015 - Nov 2022', 'Oct 2010 - Dec 2011', 'Mar 2003 -', 'Dec 1996 - Jan 2002', 'Jul 2007 -', 'May 2015 - Sep 2019', 'Sep 2012 - Sep 2014', 'Jan 2020 -', 'Aug 2013 - Nov 2014', 'Feb 2012 - Jul 2020', 'Jan 2012 - Jun 2015', 'Feb 2006 -', 'Oct 1982 - Feb 1994', 'Aug 2009 -', 'Feb 2017 -', 'Jan 2014 - Nov 2022', 'Jan 2014 -', 'Aug 2016 - Oct 2017', 'May 2000 - May 2009', 'Dec 2007 -', 'Oct 2012 -', 'Mar 2011 - Apr 2021', 'Jun 2012 -', 'Dec 2018 -', 'Mar 1998 -', 'Nov 2007 - Oct 2011', 'Jan 2015 -', 'Sep 1989 -', 'Nov 1999 - Aug 2008', 'Jan 2009 - Jun 2015', 'Feb 2014 - Jan 2018', 'Dec 2003 - May 2006', 'Apr 2022 - Apr 2022']\n",
      "['652,557 members', '251,772 members', '356,277 members', '588,339 members', '231,492 members', '160,544 members', '286,835 members', '285,789 members', '169,302 members', '419,168 members', '162,974 members', '120,510 members', '240,540 members', '49,352 members', '81,705 members', '57,004 members', '25,794 members', '259,113 members', '22,038 members', '148,252 members', '162,128 members', '64,434 members', '80,674 members', '17,851 members', '33,087 members', '262,335 members', '209,051 members', '15,562 members', '62,049 members', '55,791 members', '129,826 members', '37,180 members', '77,668 members', '66,206 members', '155,801 members', '131,699 members', '33,568 members', '153,310 members', '69,019 members', '461,711 members', '577,550 members', '260,139 members', '93,235 members', '13,200 members', '81,693 members', '79,856 members', '100,992 members', '62,796 members', '383,950 members', '97,594 members']\n"
     ]
    }
   ],
   "source": [
    "print(mangaTitles)\n",
    "print(mangaScore)\n",
    "print(mangaRank)\n",
    "print(mangaLink)\n",
    "print(mangaVolumes)\n",
    "print(mangaPublication)\n",
    "print(mangaMembers)"
   ]
  },
  {
   "cell_type": "code",
   "execution_count": 18,
   "metadata": {},
   "outputs": [
    {
     "name": "stdout",
     "output_type": "stream",
     "text": [
      "                                       Manga Title Score Ranking  \\\n",
      "0                                          Berserk  9.47     [1]   \n",
      "1  JoJo no Kimyou na Bouken Part 7: Steel Ball Run  9.30     [2]   \n",
      "2                                         Vagabond  9.24     [3]   \n",
      "3                                        One Piece  9.22     [4]   \n",
      "4                                          Monster  9.15     [5]   \n",
      "\n",
      "  Type/Volume Count          Publication          Members  \\\n",
      "0    Manga (? vols)           Aug 1989 -  652,557 members   \n",
      "1   Manga (24 vols)  Jan 2004 - Apr 2011  251,772 members   \n",
      "2   Manga (37 vols)  Sep 1998 - May 2015  356,277 members   \n",
      "3    Manga (? vols)           Jul 1997 -  588,339 members   \n",
      "4   Manga (18 vols)  Dec 1994 - Dec 2001  231,492 members   \n",
      "\n",
      "                                                Link  \n",
      "0            https://myanimelist.net/manga/2/Berserk  \n",
      "1  https://myanimelist.net/manga/1706/JoJo_no_Kim...  \n",
      "2         https://myanimelist.net/manga/656/Vagabond  \n",
      "3         https://myanimelist.net/manga/13/One_Piece  \n",
      "4            https://myanimelist.net/manga/1/Monster  \n"
     ]
    }
   ],
   "source": [
    "df = pd.DataFrame(\n",
    "    {'Manga Title': mangaTitles,\n",
    "     'Score': mangaScore,\n",
    "     'Ranking': mangaRank,\n",
    "     'Type/Volume Count': mangaVolumes,\n",
    "     'Publication': mangaPublication,\n",
    "     'Members': mangaMembers,\n",
    "     'Link': mangaLink,\n",
    "     }\n",
    "    )\n",
    "\n",
    "print (df.head())\n",
    "\n",
    "df.to_csv('MAL_TopManga.csv', index=False)"
   ]
  }
 ],
 "metadata": {
  "kernelspec": {
   "display_name": "Python 3",
   "language": "python",
   "name": "python3"
  },
  "language_info": {
   "codemirror_mode": {
    "name": "ipython",
    "version": 3
   },
   "file_extension": ".py",
   "mimetype": "text/x-python",
   "name": "python",
   "nbconvert_exporter": "python",
   "pygments_lexer": "ipython3",
   "version": "3.10.9"
  },
  "orig_nbformat": 4
 },
 "nbformat": 4,
 "nbformat_minor": 2
}
